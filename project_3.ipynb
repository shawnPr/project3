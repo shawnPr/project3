{
  "nbformat": 4,
  "nbformat_minor": 0,
  "metadata": {
    "colab": {
      "name": "project_3",
      "provenance": [],
      "collapsed_sections": []
    },
    "kernelspec": {
      "name": "python3",
      "display_name": "Python 3"
    },
    "language_info": {
      "name": "python"
    }
  },
  "cells": [
    {
      "cell_type": "code",
      "metadata": {
        "id": "1dFUbNPyV624"
      },
      "source": [
        "import pandas as pd\n",
        "import matplotlib.pyplot as plt\n",
        "import numpy as np\n",
        "%matplotlib inline\n",
        "df = pd.read_csv('https://raw.githubusercontent.com/nytimes/covid-19-data/master/us-counties.csv')"
      ],
      "execution_count": null,
      "outputs": []
    },
    {
      "cell_type": "code",
      "metadata": {
        "colab": {
          "base_uri": "https://localhost:8080/"
        },
        "id": "LvzuEvOvdgKW",
        "outputId": "d68c3bca-afe6-45ba-cdc2-79609761c275"
      },
      "source": [
        "df.columns"
      ],
      "execution_count": null,
      "outputs": [
        {
          "output_type": "execute_result",
          "data": {
            "text/plain": [
              "Index(['date', 'county', 'state', 'fips', 'cases', 'deaths'], dtype='object')"
            ]
          },
          "metadata": {
            "tags": []
          },
          "execution_count": 9
        }
      ]
    },
    {
      "cell_type": "code",
      "metadata": {
        "colab": {
          "base_uri": "https://localhost:8080/"
        },
        "id": "x1BVHb-kbPuv",
        "outputId": "ea4c9886-3c47-404b-ebe8-71e3132eab09"
      },
      "source": [
        "len(df)"
      ],
      "execution_count": null,
      "outputs": [
        {
          "output_type": "execute_result",
          "data": {
            "text/plain": [
              "1628186"
            ]
          },
          "metadata": {
            "tags": []
          },
          "execution_count": 3
        }
      ]
    },
    {
      "cell_type": "code",
      "metadata": {
        "colab": {
          "base_uri": "https://localhost:8080/"
        },
        "id": "xnKx82TEbSxa",
        "outputId": "dc3b1a50-908b-4cce-a797-9a65020da1f8"
      },
      "source": [
        "df.count()"
      ],
      "execution_count": null,
      "outputs": [
        {
          "output_type": "execute_result",
          "data": {
            "text/plain": [
              "date      1628186\n",
              "county    1628186\n",
              "state     1628186\n",
              "fips      1613393\n",
              "cases     1628186\n",
              "deaths    1591563\n",
              "dtype: int64"
            ]
          },
          "metadata": {
            "tags": []
          },
          "execution_count": 4
        }
      ]
    },
    {
      "cell_type": "code",
      "metadata": {
        "colab": {
          "base_uri": "https://localhost:8080/",
          "height": 359
        },
        "id": "zuIzN6qWcxz5",
        "outputId": "4a080009-6bc6-431b-b634-cc2bd50655b9"
      },
      "source": [
        "df.head() #this shows by default, the first 5 rows of data\n",
        "df.tail() #this shows by default, the first 5 rows of data\n",
        "df.head(10) #this shows the first 10 rows"
      ],
      "execution_count": null,
      "outputs": [
        {
          "output_type": "execute_result",
          "data": {
            "text/html": [
              "<div>\n",
              "<style scoped>\n",
              "    .dataframe tbody tr th:only-of-type {\n",
              "        vertical-align: middle;\n",
              "    }\n",
              "\n",
              "    .dataframe tbody tr th {\n",
              "        vertical-align: top;\n",
              "    }\n",
              "\n",
              "    .dataframe thead th {\n",
              "        text-align: right;\n",
              "    }\n",
              "</style>\n",
              "<table border=\"1\" class=\"dataframe\">\n",
              "  <thead>\n",
              "    <tr style=\"text-align: right;\">\n",
              "      <th></th>\n",
              "      <th>date</th>\n",
              "      <th>county</th>\n",
              "      <th>state</th>\n",
              "      <th>cases</th>\n",
              "      <th>deaths</th>\n",
              "    </tr>\n",
              "  </thead>\n",
              "  <tbody>\n",
              "    <tr>\n",
              "      <th>0</th>\n",
              "      <td>2020-01-21</td>\n",
              "      <td>Snohomish</td>\n",
              "      <td>Washington</td>\n",
              "      <td>1</td>\n",
              "      <td>0.0</td>\n",
              "    </tr>\n",
              "    <tr>\n",
              "      <th>1</th>\n",
              "      <td>2020-01-22</td>\n",
              "      <td>Snohomish</td>\n",
              "      <td>Washington</td>\n",
              "      <td>1</td>\n",
              "      <td>0.0</td>\n",
              "    </tr>\n",
              "    <tr>\n",
              "      <th>2</th>\n",
              "      <td>2020-01-23</td>\n",
              "      <td>Snohomish</td>\n",
              "      <td>Washington</td>\n",
              "      <td>1</td>\n",
              "      <td>0.0</td>\n",
              "    </tr>\n",
              "    <tr>\n",
              "      <th>3</th>\n",
              "      <td>2020-01-24</td>\n",
              "      <td>Cook</td>\n",
              "      <td>Illinois</td>\n",
              "      <td>1</td>\n",
              "      <td>0.0</td>\n",
              "    </tr>\n",
              "    <tr>\n",
              "      <th>4</th>\n",
              "      <td>2020-01-24</td>\n",
              "      <td>Snohomish</td>\n",
              "      <td>Washington</td>\n",
              "      <td>1</td>\n",
              "      <td>0.0</td>\n",
              "    </tr>\n",
              "    <tr>\n",
              "      <th>5</th>\n",
              "      <td>2020-01-25</td>\n",
              "      <td>Orange</td>\n",
              "      <td>California</td>\n",
              "      <td>1</td>\n",
              "      <td>0.0</td>\n",
              "    </tr>\n",
              "    <tr>\n",
              "      <th>6</th>\n",
              "      <td>2020-01-25</td>\n",
              "      <td>Cook</td>\n",
              "      <td>Illinois</td>\n",
              "      <td>1</td>\n",
              "      <td>0.0</td>\n",
              "    </tr>\n",
              "    <tr>\n",
              "      <th>7</th>\n",
              "      <td>2020-01-25</td>\n",
              "      <td>Snohomish</td>\n",
              "      <td>Washington</td>\n",
              "      <td>1</td>\n",
              "      <td>0.0</td>\n",
              "    </tr>\n",
              "    <tr>\n",
              "      <th>8</th>\n",
              "      <td>2020-01-26</td>\n",
              "      <td>Maricopa</td>\n",
              "      <td>Arizona</td>\n",
              "      <td>1</td>\n",
              "      <td>0.0</td>\n",
              "    </tr>\n",
              "    <tr>\n",
              "      <th>9</th>\n",
              "      <td>2020-01-26</td>\n",
              "      <td>Los Angeles</td>\n",
              "      <td>California</td>\n",
              "      <td>1</td>\n",
              "      <td>0.0</td>\n",
              "    </tr>\n",
              "  </tbody>\n",
              "</table>\n",
              "</div>"
            ],
            "text/plain": [
              "         date       county       state  cases  deaths\n",
              "0  2020-01-21    Snohomish  Washington      1     0.0\n",
              "1  2020-01-22    Snohomish  Washington      1     0.0\n",
              "2  2020-01-23    Snohomish  Washington      1     0.0\n",
              "3  2020-01-24         Cook    Illinois      1     0.0\n",
              "4  2020-01-24    Snohomish  Washington      1     0.0\n",
              "5  2020-01-25       Orange  California      1     0.0\n",
              "6  2020-01-25         Cook    Illinois      1     0.0\n",
              "7  2020-01-25    Snohomish  Washington      1     0.0\n",
              "8  2020-01-26     Maricopa     Arizona      1     0.0\n",
              "9  2020-01-26  Los Angeles  California      1     0.0"
            ]
          },
          "metadata": {
            "tags": []
          },
          "execution_count": 58
        }
      ]
    },
    {
      "cell_type": "code",
      "metadata": {
        "colab": {
          "base_uri": "https://localhost:8080/"
        },
        "id": "fjKO1N6ZdR4i",
        "outputId": "f863f0c9-6fa1-4ca6-d1a4-59aa12ff4ff6"
      },
      "source": [
        "df.groupby(['state'])['deaths'].count().sort_values(ascending=False)"
      ],
      "execution_count": null,
      "outputs": [
        {
          "output_type": "execute_result",
          "data": {
            "text/plain": [
              "state\n",
              "Texas                       125168\n",
              "Georgia                      81849\n",
              "Virginia                     67343\n",
              "Kentucky                     60292\n",
              "Missouri                     58127\n",
              "Illinois                     51795\n",
              "Kansas                       51013\n",
              "North Carolina               50909\n",
              "Iowa                         50170\n",
              "Tennessee                    48895\n",
              "Indiana                      47138\n",
              "Ohio                         45160\n",
              "Minnesota                    44211\n",
              "Nebraska                     43969\n",
              "Michigan                     42606\n",
              "Mississippi                  42032\n",
              "Oklahoma                     38941\n",
              "Arkansas                     38588\n",
              "Wisconsin                    36623\n",
              "Florida                      35070\n",
              "Pennsylvania                 34418\n",
              "Alabama                      34289\n",
              "Louisiana                    33418\n",
              "Colorado                     32311\n",
              "South Dakota                 31798\n",
              "New York                     30090\n",
              "California                   30090\n",
              "West Virginia                27441\n",
              "North Dakota                 25973\n",
              "Montana                      25592\n",
              "South Carolina               23717\n",
              "Idaho                        21346\n",
              "Washington                   20392\n",
              "Oregon                       18095\n",
              "New Mexico                   16474\n",
              "Utah                         14849\n",
              "Alaska                       13038\n",
              "Maryland                     12920\n",
              "Wyoming                      11628\n",
              "New Jersey                   11499\n",
              "Maine                         8550\n",
              "Nevada                        8234\n",
              "Massachusetts                 7879\n",
              "Arizona                       7853\n",
              "Vermont                       7723\n",
              "New Hampshire                 5653\n",
              "Connecticut                   4670\n",
              "Rhode Island                  3090\n",
              "Hawaii                        2379\n",
              "Delaware                      2055\n",
              "Virgin Islands                1637\n",
              "Northern Mariana Islands       990\n",
              "District of Columbia           529\n",
              "Puerto Rico                    523\n",
              "Guam                           521\n",
              "Name: deaths, dtype: int64"
            ]
          },
          "metadata": {
            "tags": []
          },
          "execution_count": 55
        }
      ]
    },
    {
      "cell_type": "code",
      "metadata": {
        "colab": {
          "base_uri": "https://localhost:8080/"
        },
        "id": "PrMMa5Twp4d2",
        "outputId": "cd5c9794-60d3-49fa-bf64-7a7072443da9"
      },
      "source": [
        "df['county']"
      ],
      "execution_count": null,
      "outputs": [
        {
          "output_type": "execute_result",
          "data": {
            "text/plain": [
              "0           Snohomish\n",
              "1           Snohomish\n",
              "2           Snohomish\n",
              "3                Cook\n",
              "4           Snohomish\n",
              "              ...    \n",
              "1628181    Sweetwater\n",
              "1628182         Teton\n",
              "1628183         Uinta\n",
              "1628184      Washakie\n",
              "1628185        Weston\n",
              "Name: county, Length: 1628186, dtype: object"
            ]
          },
          "metadata": {
            "tags": []
          },
          "execution_count": 52
        }
      ]
    },
    {
      "cell_type": "code",
      "metadata": {
        "colab": {
          "base_uri": "https://localhost:8080/",
          "height": 419
        },
        "id": "2zu6tqfLlZ4q",
        "outputId": "40f7a1db-fc83-44de-894b-1fa75d5a1a26"
      },
      "source": [
        "df[df['deaths']>30090]"
      ],
      "execution_count": null,
      "outputs": [
        {
          "output_type": "execute_result",
          "data": {
            "text/html": [
              "<div>\n",
              "<style scoped>\n",
              "    .dataframe tbody tr th:only-of-type {\n",
              "        vertical-align: middle;\n",
              "    }\n",
              "\n",
              "    .dataframe tbody tr th {\n",
              "        vertical-align: top;\n",
              "    }\n",
              "\n",
              "    .dataframe thead th {\n",
              "        text-align: right;\n",
              "    }\n",
              "</style>\n",
              "<table border=\"1\" class=\"dataframe\">\n",
              "  <thead>\n",
              "    <tr style=\"text-align: right;\">\n",
              "      <th></th>\n",
              "      <th>date</th>\n",
              "      <th>county</th>\n",
              "      <th>state</th>\n",
              "      <th>fips</th>\n",
              "      <th>cases</th>\n",
              "      <th>deaths</th>\n",
              "    </tr>\n",
              "  </thead>\n",
              "  <tbody>\n",
              "    <tr>\n",
              "      <th>1113803</th>\n",
              "      <td>2021-03-12</td>\n",
              "      <td>New York City</td>\n",
              "      <td>New York</td>\n",
              "      <td>NaN</td>\n",
              "      <td>770654</td>\n",
              "      <td>30116.0</td>\n",
              "    </tr>\n",
              "    <tr>\n",
              "      <th>1117050</th>\n",
              "      <td>2021-03-13</td>\n",
              "      <td>New York City</td>\n",
              "      <td>New York</td>\n",
              "      <td>NaN</td>\n",
              "      <td>773540</td>\n",
              "      <td>30174.0</td>\n",
              "    </tr>\n",
              "    <tr>\n",
              "      <th>1120297</th>\n",
              "      <td>2021-03-14</td>\n",
              "      <td>New York City</td>\n",
              "      <td>New York</td>\n",
              "      <td>NaN</td>\n",
              "      <td>777418</td>\n",
              "      <td>30258.0</td>\n",
              "    </tr>\n",
              "    <tr>\n",
              "      <th>1123543</th>\n",
              "      <td>2021-03-15</td>\n",
              "      <td>New York City</td>\n",
              "      <td>New York</td>\n",
              "      <td>NaN</td>\n",
              "      <td>781734</td>\n",
              "      <td>30303.0</td>\n",
              "    </tr>\n",
              "    <tr>\n",
              "      <th>1126789</th>\n",
              "      <td>2021-03-16</td>\n",
              "      <td>New York City</td>\n",
              "      <td>New York</td>\n",
              "      <td>NaN</td>\n",
              "      <td>785307</td>\n",
              "      <td>30366.0</td>\n",
              "    </tr>\n",
              "    <tr>\n",
              "      <th>...</th>\n",
              "      <td>...</td>\n",
              "      <td>...</td>\n",
              "      <td>...</td>\n",
              "      <td>...</td>\n",
              "      <td>...</td>\n",
              "      <td>...</td>\n",
              "    </tr>\n",
              "    <tr>\n",
              "      <th>1613822</th>\n",
              "      <td>2021-08-13</td>\n",
              "      <td>New York City</td>\n",
              "      <td>New York</td>\n",
              "      <td>NaN</td>\n",
              "      <td>998350</td>\n",
              "      <td>33639.0</td>\n",
              "    </tr>\n",
              "    <tr>\n",
              "      <th>1617070</th>\n",
              "      <td>2021-08-14</td>\n",
              "      <td>New York City</td>\n",
              "      <td>New York</td>\n",
              "      <td>NaN</td>\n",
              "      <td>1000703</td>\n",
              "      <td>33645.0</td>\n",
              "    </tr>\n",
              "    <tr>\n",
              "      <th>1620318</th>\n",
              "      <td>2021-08-15</td>\n",
              "      <td>New York City</td>\n",
              "      <td>New York</td>\n",
              "      <td>NaN</td>\n",
              "      <td>1002520</td>\n",
              "      <td>33657.0</td>\n",
              "    </tr>\n",
              "    <tr>\n",
              "      <th>1623565</th>\n",
              "      <td>2021-08-16</td>\n",
              "      <td>New York City</td>\n",
              "      <td>New York</td>\n",
              "      <td>NaN</td>\n",
              "      <td>1004659</td>\n",
              "      <td>33661.0</td>\n",
              "    </tr>\n",
              "    <tr>\n",
              "      <th>1626812</th>\n",
              "      <td>2021-08-17</td>\n",
              "      <td>New York City</td>\n",
              "      <td>New York</td>\n",
              "      <td>NaN</td>\n",
              "      <td>1006142</td>\n",
              "      <td>33684.0</td>\n",
              "    </tr>\n",
              "  </tbody>\n",
              "</table>\n",
              "<p>159 rows × 6 columns</p>\n",
              "</div>"
            ],
            "text/plain": [
              "               date         county     state  fips    cases   deaths\n",
              "1113803  2021-03-12  New York City  New York   NaN   770654  30116.0\n",
              "1117050  2021-03-13  New York City  New York   NaN   773540  30174.0\n",
              "1120297  2021-03-14  New York City  New York   NaN   777418  30258.0\n",
              "1123543  2021-03-15  New York City  New York   NaN   781734  30303.0\n",
              "1126789  2021-03-16  New York City  New York   NaN   785307  30366.0\n",
              "...             ...            ...       ...   ...      ...      ...\n",
              "1613822  2021-08-13  New York City  New York   NaN   998350  33639.0\n",
              "1617070  2021-08-14  New York City  New York   NaN  1000703  33645.0\n",
              "1620318  2021-08-15  New York City  New York   NaN  1002520  33657.0\n",
              "1623565  2021-08-16  New York City  New York   NaN  1004659  33661.0\n",
              "1626812  2021-08-17  New York City  New York   NaN  1006142  33684.0\n",
              "\n",
              "[159 rows x 6 columns]"
            ]
          },
          "metadata": {
            "tags": []
          },
          "execution_count": 40
        }
      ]
    },
    {
      "cell_type": "code",
      "metadata": {
        "colab": {
          "base_uri": "https://localhost:8080/",
          "height": 419
        },
        "id": "l0M84Dirndig",
        "outputId": "1ef95f09-2904-4542-cb1b-44fb8b35482d"
      },
      "source": [
        "drop_cols = ['fips']\n",
        "df\n",
        "df[df['deaths']>30090]\n"
      ],
      "execution_count": null,
      "outputs": [
        {
          "output_type": "execute_result",
          "data": {
            "text/html": [
              "<div>\n",
              "<style scoped>\n",
              "    .dataframe tbody tr th:only-of-type {\n",
              "        vertical-align: middle;\n",
              "    }\n",
              "\n",
              "    .dataframe tbody tr th {\n",
              "        vertical-align: top;\n",
              "    }\n",
              "\n",
              "    .dataframe thead th {\n",
              "        text-align: right;\n",
              "    }\n",
              "</style>\n",
              "<table border=\"1\" class=\"dataframe\">\n",
              "  <thead>\n",
              "    <tr style=\"text-align: right;\">\n",
              "      <th></th>\n",
              "      <th>date</th>\n",
              "      <th>county</th>\n",
              "      <th>state</th>\n",
              "      <th>cases</th>\n",
              "      <th>deaths</th>\n",
              "    </tr>\n",
              "  </thead>\n",
              "  <tbody>\n",
              "    <tr>\n",
              "      <th>1113803</th>\n",
              "      <td>2021-03-12</td>\n",
              "      <td>New York City</td>\n",
              "      <td>New York</td>\n",
              "      <td>770654</td>\n",
              "      <td>30116.0</td>\n",
              "    </tr>\n",
              "    <tr>\n",
              "      <th>1117050</th>\n",
              "      <td>2021-03-13</td>\n",
              "      <td>New York City</td>\n",
              "      <td>New York</td>\n",
              "      <td>773540</td>\n",
              "      <td>30174.0</td>\n",
              "    </tr>\n",
              "    <tr>\n",
              "      <th>1120297</th>\n",
              "      <td>2021-03-14</td>\n",
              "      <td>New York City</td>\n",
              "      <td>New York</td>\n",
              "      <td>777418</td>\n",
              "      <td>30258.0</td>\n",
              "    </tr>\n",
              "    <tr>\n",
              "      <th>1123543</th>\n",
              "      <td>2021-03-15</td>\n",
              "      <td>New York City</td>\n",
              "      <td>New York</td>\n",
              "      <td>781734</td>\n",
              "      <td>30303.0</td>\n",
              "    </tr>\n",
              "    <tr>\n",
              "      <th>1126789</th>\n",
              "      <td>2021-03-16</td>\n",
              "      <td>New York City</td>\n",
              "      <td>New York</td>\n",
              "      <td>785307</td>\n",
              "      <td>30366.0</td>\n",
              "    </tr>\n",
              "    <tr>\n",
              "      <th>...</th>\n",
              "      <td>...</td>\n",
              "      <td>...</td>\n",
              "      <td>...</td>\n",
              "      <td>...</td>\n",
              "      <td>...</td>\n",
              "    </tr>\n",
              "    <tr>\n",
              "      <th>1613822</th>\n",
              "      <td>2021-08-13</td>\n",
              "      <td>New York City</td>\n",
              "      <td>New York</td>\n",
              "      <td>998350</td>\n",
              "      <td>33639.0</td>\n",
              "    </tr>\n",
              "    <tr>\n",
              "      <th>1617070</th>\n",
              "      <td>2021-08-14</td>\n",
              "      <td>New York City</td>\n",
              "      <td>New York</td>\n",
              "      <td>1000703</td>\n",
              "      <td>33645.0</td>\n",
              "    </tr>\n",
              "    <tr>\n",
              "      <th>1620318</th>\n",
              "      <td>2021-08-15</td>\n",
              "      <td>New York City</td>\n",
              "      <td>New York</td>\n",
              "      <td>1002520</td>\n",
              "      <td>33657.0</td>\n",
              "    </tr>\n",
              "    <tr>\n",
              "      <th>1623565</th>\n",
              "      <td>2021-08-16</td>\n",
              "      <td>New York City</td>\n",
              "      <td>New York</td>\n",
              "      <td>1004659</td>\n",
              "      <td>33661.0</td>\n",
              "    </tr>\n",
              "    <tr>\n",
              "      <th>1626812</th>\n",
              "      <td>2021-08-17</td>\n",
              "      <td>New York City</td>\n",
              "      <td>New York</td>\n",
              "      <td>1006142</td>\n",
              "      <td>33684.0</td>\n",
              "    </tr>\n",
              "  </tbody>\n",
              "</table>\n",
              "<p>159 rows × 5 columns</p>\n",
              "</div>"
            ],
            "text/plain": [
              "               date         county     state    cases   deaths\n",
              "1113803  2021-03-12  New York City  New York   770654  30116.0\n",
              "1117050  2021-03-13  New York City  New York   773540  30174.0\n",
              "1120297  2021-03-14  New York City  New York   777418  30258.0\n",
              "1123543  2021-03-15  New York City  New York   781734  30303.0\n",
              "1126789  2021-03-16  New York City  New York   785307  30366.0\n",
              "...             ...            ...       ...      ...      ...\n",
              "1613822  2021-08-13  New York City  New York   998350  33639.0\n",
              "1617070  2021-08-14  New York City  New York  1000703  33645.0\n",
              "1620318  2021-08-15  New York City  New York  1002520  33657.0\n",
              "1623565  2021-08-16  New York City  New York  1004659  33661.0\n",
              "1626812  2021-08-17  New York City  New York  1006142  33684.0\n",
              "\n",
              "[159 rows x 5 columns]"
            ]
          },
          "metadata": {
            "tags": []
          },
          "execution_count": 48
        }
      ]
    },
    {
      "cell_type": "code",
      "metadata": {
        "colab": {
          "base_uri": "https://localhost:8080/"
        },
        "id": "hxBkh2dmt5GY",
        "outputId": "9a9fc44b-724d-48d8-fa9c-6ff153d8d703"
      },
      "source": [
        "df[\"deaths\"].mean()"
      ],
      "execution_count": null,
      "outputs": [
        {
          "output_type": "execute_result",
          "data": {
            "text/plain": [
              "107.5642139205297"
            ]
          },
          "metadata": {
            "tags": []
          },
          "execution_count": 61
        }
      ]
    },
    {
      "cell_type": "code",
      "metadata": {
        "colab": {
          "base_uri": "https://localhost:8080/"
        },
        "id": "faLIlGAyubat",
        "outputId": "cfca1531-9585-47ea-a59e-72be5c4af8f2"
      },
      "source": [
        "df['cases'].mean()"
      ],
      "execution_count": null,
      "outputs": [
        {
          "output_type": "execute_result",
          "data": {
            "text/plain": [
              "5398.295264177435"
            ]
          },
          "metadata": {
            "tags": []
          },
          "execution_count": 62
        }
      ]
    },
    {
      "cell_type": "code",
      "metadata": {
        "colab": {
          "base_uri": "https://localhost:8080/",
          "height": 180
        },
        "id": "PXRjRtCyjDQu",
        "outputId": "616d058c-425b-4c20-d7cd-8264c83905b1"
      },
      "source": [
        "DataFrame.sort_values(by='date')\n",
        "df"
      ],
      "execution_count": null,
      "outputs": [
        {
          "output_type": "error",
          "ename": "NameError",
          "evalue": "ignored",
          "traceback": [
            "\u001b[0;31m---------------------------------------------------------------------------\u001b[0m",
            "\u001b[0;31mNameError\u001b[0m                                 Traceback (most recent call last)",
            "\u001b[0;32m<ipython-input-4-c2544a0f31a4>\u001b[0m in \u001b[0;36m<module>\u001b[0;34m()\u001b[0m\n\u001b[0;32m----> 1\u001b[0;31m \u001b[0mDataFrame\u001b[0m\u001b[0;34m.\u001b[0m\u001b[0msort_values\u001b[0m\u001b[0;34m(\u001b[0m\u001b[0mby\u001b[0m\u001b[0;34m=\u001b[0m\u001b[0;34m'date'\u001b[0m\u001b[0;34m)\u001b[0m\u001b[0;34m\u001b[0m\u001b[0;34m\u001b[0m\u001b[0m\n\u001b[0m\u001b[1;32m      2\u001b[0m \u001b[0mdf\u001b[0m\u001b[0;34m\u001b[0m\u001b[0;34m\u001b[0m\u001b[0m\n",
            "\u001b[0;31mNameError\u001b[0m: name 'DataFrame' is not defined"
          ]
        }
      ]
    }
  ]
}